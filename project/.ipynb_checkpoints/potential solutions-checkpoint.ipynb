{
 "cells": [
  {
   "cell_type": "markdown",
   "id": "b882b5a2",
   "metadata": {},
   "source": [
    "potentially helpful libraries / functions\n",
    "\n",
    "- [heatmap using plotly.go.scatter](https://plotly.com/python/heatmaps/#heatmaps-with-plotly-express)\n",
    "    - [docs](https://plotly.com/python/reference/heatmap/)\n",
    "    - [more docs](https://plotly.com/python-api-reference/generated/plotly.graph_objects.Layout.html)\n",
    "    - [kaggle example](https://www.kaggle.com/code/andradaolteanu/plotly-advanced-global-warming-analysis)\n",
    "```python\n",
    "import plotly.graph_objects as go\n",
    "```\n",
    "\n",
    "- [heatmaps in dash](https://plotly.com/python/heatmaps/#heatmaps-in-dash)\n",
    "```python\n",
    "from dash import Dash, dcc, html, Input, Output\n",
    "import plotly.express as px\n",
    "```\n"
   ]
  },
  {
   "cell_type": "code",
   "execution_count": 1,
   "id": "7ed62ecd",
   "metadata": {},
   "outputs": [],
   "source": [
    "#%pip install dash"
   ]
  },
  {
   "cell_type": "code",
   "execution_count": 2,
   "id": "0ecee09a",
   "metadata": {},
   "outputs": [
    {
     "name": "stdout",
     "output_type": "stream",
     "text": [
      "Dash is running on http://127.0.0.1:8050/\n",
      "\n",
      " * Serving Flask app '__main__'\n",
      " * Debug mode: on\n"
     ]
    },
    {
     "name": "stderr",
     "output_type": "stream",
     "text": [
      "Traceback (most recent call last):\n",
      "  File \"/Users/ah/opt/anaconda3/lib/python3.9/site-packages/ipykernel_launcher.py\", line 17, in <module>\n",
      "    app.launch_new_instance()\n",
      "  File \"/Users/ah/opt/anaconda3/lib/python3.9/site-packages/traitlets/config/application.py\", line 991, in launch_instance\n",
      "    app.initialize(argv)\n",
      "  File \"/Users/ah/opt/anaconda3/lib/python3.9/site-packages/traitlets/config/application.py\", line 113, in inner\n",
      "    return method(app, *args, **kwargs)\n",
      "  File \"/Users/ah/opt/anaconda3/lib/python3.9/site-packages/ipykernel/kernelapp.py\", line 665, in initialize\n",
      "    self.init_sockets()\n",
      "  File \"/Users/ah/opt/anaconda3/lib/python3.9/site-packages/ipykernel/kernelapp.py\", line 309, in init_sockets\n",
      "    self.shell_port = self._bind_socket(self.shell_socket, self.shell_port)\n",
      "  File \"/Users/ah/opt/anaconda3/lib/python3.9/site-packages/ipykernel/kernelapp.py\", line 246, in _bind_socket\n",
      "    return self._try_bind_socket(s, port)\n",
      "  File \"/Users/ah/opt/anaconda3/lib/python3.9/site-packages/ipykernel/kernelapp.py\", line 222, in _try_bind_socket\n",
      "    s.bind(\"tcp://%s:%i\" % (self.ip, port))\n",
      "  File \"/Users/ah/opt/anaconda3/lib/python3.9/site-packages/zmq/sugar/socket.py\", line 229, in bind\n",
      "    super().bind(addr)\n",
      "  File \"zmq/backend/cython/socket.pyx\", line 562, in zmq.backend.cython.socket.Socket.bind\n",
      "  File \"zmq/backend/cython/checkrc.pxd\", line 28, in zmq.backend.cython.checkrc._check_rc\n",
      "zmq.error.ZMQError: Address already in use\n"
     ]
    },
    {
     "ename": "SystemExit",
     "evalue": "1",
     "output_type": "error",
     "traceback": [
      "An exception has occurred, use %tb to see the full traceback.\n",
      "\u001b[0;31mSystemExit\u001b[0m\u001b[0;31m:\u001b[0m 1\n"
     ]
    },
    {
     "name": "stderr",
     "output_type": "stream",
     "text": [
      "/Users/ah/opt/anaconda3/lib/python3.9/site-packages/IPython/core/interactiveshell.py:3468: UserWarning: To exit: use 'exit', 'quit', or Ctrl-D.\n",
      "  warn(\"To exit: use 'exit', 'quit', or Ctrl-D.\", stacklevel=1)\n"
     ]
    }
   ],
   "source": [
    "from dash import Dash, dcc, html, Input, Output\n",
    "import plotly.express as px\n",
    "\n",
    "app = Dash(__name__)\n",
    "\n",
    "\n",
    "app.layout = html.Div([\n",
    "    html.H4('Olympic medals won by countries'),\n",
    "    dcc.Graph(id=\"graph\"),\n",
    "    html.P(\"Medals included:\"),\n",
    "    dcc.Checklist(\n",
    "        id='medals',\n",
    "        options=[\"gold\", \"silver\", \"bronze\"],\n",
    "        value=[\"gold\", \"silver\"],\n",
    "    ),\n",
    "])\n",
    "\n",
    "\n",
    "@app.callback(\n",
    "    Output(\"graph\", \"figure\"), \n",
    "    Input(\"medals\", \"value\"))\n",
    "def filter_heatmap(cols):\n",
    "    df = px.data.medals_wide(indexed=True) # replace with your own data source\n",
    "    fig = px.imshow(df[cols])\n",
    "    return fig\n",
    "\n",
    "\n",
    "app.run_server(debug=True)"
   ]
  },
  {
   "cell_type": "markdown",
   "id": "97e8eb47",
   "metadata": {},
   "source": [
    "\"introducing Jupyter Dash\" [medium pst](https://medium.com/plotly/introducing-jupyterdash-811f1f57c02e)\n",
    "\n",
    "\"how to use dash within Jupyter notebook or Lab\" [SO post](https://stackoverflow.com/questions/45490002/how-to-use-dash-within-jupyter-notebook-or-jupyterlab)"
   ]
  },
  {
   "cell_type": "code",
   "execution_count": 3,
   "id": "47d0e9f8",
   "metadata": {},
   "outputs": [
    {
     "name": "stdout",
     "output_type": "stream",
     "text": [
      "Retrieving notices: ...working... done\n",
      "Collecting package metadata (current_repodata.json): done\n",
      "Solving environment: \\ \n",
      "The environment is inconsistent, please check the package plan carefully\n",
      "The following packages are causing the inconsistency:\n",
      "\n",
      "  - defaults/noarch::python-lsp-black==1.0.0=pyhd3eb1b0_0\n",
      "  - defaults/noarch::python-lsp-server==1.2.4=pyhd3eb1b0_0\n",
      "failed with initial frozen solve. Retrying with flexible solve.\n",
      "Solving environment: failed with repodata from current_repodata.json, will retry with next repodata source.\n",
      "Collecting package metadata (repodata.json): done\n",
      "Solving environment: \\ \n",
      "The environment is inconsistent, please check the package plan carefully\n",
      "The following packages are causing the inconsistency:\n",
      "\n",
      "  - defaults/osx-64::anaconda-navigator==2.2.0=py39hecd8cb5_0\n",
      "  - defaults/noarch::python-lsp-black==1.0.0=pyhd3eb1b0_0\n",
      "  - defaults/noarch::python-lsp-server==1.2.4=pyhd3eb1b0_0\n",
      "failed with initial frozen solve. Retrying with flexible solve.\n",
      "Solving environment: - \n",
      "Found conflicts! Looking for incompatible packages.\n",
      "This can take several minutes.  Press CTRL-C to abort.\n",
      "Examining conflict for argon2-cffi conda-content-trust pyopenssl bcrypt jupyte\\ \n",
      "Note: you may need to restart the kernel to use updated packages.\n"
     ]
    }
   ],
   "source": [
    "%conda install -c plotly jupyterlab-dash"
   ]
  },
  {
   "cell_type": "code",
   "execution_count": null,
   "id": "36c641ce",
   "metadata": {},
   "outputs": [],
   "source": []
  }
 ],
 "metadata": {
  "kernelspec": {
   "display_name": "Python 3 (ipykernel)",
   "language": "python",
   "name": "python3"
  },
  "language_info": {
   "codemirror_mode": {
    "name": "ipython",
    "version": 3
   },
   "file_extension": ".py",
   "mimetype": "text/x-python",
   "name": "python",
   "nbconvert_exporter": "python",
   "pygments_lexer": "ipython3",
   "version": "3.9.12"
  }
 },
 "nbformat": 4,
 "nbformat_minor": 5
}
